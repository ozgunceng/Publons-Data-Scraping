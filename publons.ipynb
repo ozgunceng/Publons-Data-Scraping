{
 "cells": [
  {
   "cell_type": "code",
   "execution_count": 2,
   "metadata": {},
   "outputs": [],
   "source": [
    "from selenium import webdriver\n",
    "from selenium.webdriver.common.keys import Keys\n",
    "from selenium.webdriver.support import expected_conditions as EC\n",
    "from selenium.webdriver.common.by import By\n",
    "from selenium.webdriver.support.wait import WebDriverWait\n",
    "from selenium.common.exceptions import NoSuchElementException\n",
    "from selenium.common.exceptions import ElementClickInterceptedException\n",
    "from selenium.webdriver.common.action_chains import ActionChains\n",
    "import time \n",
    "import json\n",
    "import csv\n",
    "import requests\n",
    "from lxml import html\n",
    "from bs4 import BeautifulSoup\n",
    "import re\n",
    "import pandas as pd\n",
    "import json\n",
    "from fuzzywuzzy import fuzz\n",
    "from fuzzywuzzy import process\n",
    "from itertools import combinations"
   ]
  },
  {
   "cell_type": "code",
   "execution_count": 215,
   "metadata": {},
   "outputs": [],
   "source": [
    "driver = webdriver.Chrome(\"D:/chromedriver.exe\")"
   ]
  },
  {
   "cell_type": "code",
   "execution_count": 7,
   "metadata": {},
   "outputs": [],
   "source": [
    "df = pd.read_excel(\"data_v3.xlsx\")\n"
   ]
  },
  {
   "cell_type": "code",
   "execution_count": 8,
   "metadata": {},
   "outputs": [],
   "source": [
    "authors = list(df[\"group leader\"].unique())"
   ]
  },
  {
   "cell_type": "markdown",
   "metadata": {},
   "source": [
    "try blogu olacak search edecez sonuc varsa çalışacak\n"
   ]
  },
  {
   "cell_type": "code",
   "execution_count": 216,
   "metadata": {},
   "outputs": [],
   "source": [
    "driver.get(\"https://publons.com/researcher/2739471/marinella-catellani/publications/\")"
   ]
  },
  {
   "cell_type": "code",
   "execution_count": 9,
   "metadata": {},
   "outputs": [],
   "source": [
    "\n",
    "pi=driver.find_element_by_xpath(\"//*[@id='researcher-profile-page-content']/div/div[1]/div/div[2]/div[1]/div[1]/h2\").text\n",
    "cited=driver.find_element_by_xpath(\"//*[@id='researcher-profile-page-content']/div/div[1]/div/div[2]/div[4]/div[2]/p\").text\n",
    "mostcitedpub=driver.find_element_by_xpath(\"//*[@id='researcher-profile-page-content']/div/div[2]/div/div[2]/div[1]/ul/div[1]/div/div[1]/div[1]/a/span\").text"
   ]
  },
  {
   "cell_type": "code",
   "execution_count": 16,
   "metadata": {},
   "outputs": [],
   "source": [
    "doi=driver.find_element_by_xpath(\"//*[@id='researcher-profile-page-content']/div/div[2]/div/div[2]/div[1]/ul/div[1]/div/div[1]/div[2]/div/div[2]/p[3]\").text"
   ]
  },
  {
   "cell_type": "code",
   "execution_count": 18,
   "metadata": {},
   "outputs": [],
   "source": [
    "year=driver.find_element_by_xpath(\"//*[@id='researcher-profile-page-content']/div/div[2]/div/div[2]/div[1]/ul/div[1]/div/div[1]/div[2]/div/div[2]/p[2]\").text"
   ]
  },
  {
   "cell_type": "code",
   "execution_count": 26,
   "metadata": {},
   "outputs": [],
   "source": [
    "sp=year.split(\"in\")\n",
    "pub_year=sp[0].split(\"Published:\")[1]"
   ]
  },
  {
   "cell_type": "code",
   "execution_count": 27,
   "metadata": {},
   "outputs": [
    {
     "data": {
      "text/plain": [
       "'Jul 2013 '"
      ]
     },
     "execution_count": 27,
     "metadata": {},
     "output_type": "execute_result"
    }
   ],
   "source": [
    "pub_year"
   ]
  },
  {
   "cell_type": "code",
   "execution_count": null,
   "metadata": {},
   "outputs": [],
   "source": []
  },
  {
   "cell_type": "code",
   "execution_count": 29,
   "metadata": {},
   "outputs": [
    {
     "data": {
      "text/plain": [
       "'A. Athanasopoulos'"
      ]
     },
     "execution_count": 29,
     "metadata": {},
     "output_type": "execute_result"
    }
   ],
   "source": []
  },
  {
   "cell_type": "code",
   "execution_count": null,
   "metadata": {},
   "outputs": [],
   "source": []
  },
  {
   "cell_type": "code",
   "execution_count": 260,
   "metadata": {},
   "outputs": [],
   "source": [
    "driver.get(\"https://publons.com/researcher/?name=A.%20Baranauskait%C4%97&is_core_collection=1&is_last_twelve_months=1\")"
   ]
  },
  {
   "cell_type": "code",
   "execution_count": 36,
   "metadata": {},
   "outputs": [],
   "source": [
    "search = driver.find_element_by_xpath(\"//input[@name='name']\")\n",
    "search.send_keys(\"A. Baranauskaitė\")\n"
   ]
  },
  {
   "cell_type": "code",
   "execution_count": 441,
   "metadata": {},
   "outputs": [],
   "source": [
    "search.clear()"
   ]
  },
  {
   "cell_type": "code",
   "execution_count": 9,
   "metadata": {},
   "outputs": [],
   "source": [
    "publon={}"
   ]
  },
  {
   "cell_type": "code",
   "execution_count": 443,
   "metadata": {},
   "outputs": [],
   "source": [
    "index=authors.index(\"AJ te Velthuis\")"
   ]
  },
  {
   "cell_type": "code",
   "execution_count": 444,
   "metadata": {},
   "outputs": [
    {
     "data": {
      "text/plain": [
       "33"
      ]
     },
     "execution_count": 444,
     "metadata": {},
     "output_type": "execute_result"
    }
   ],
   "source": [
    "index"
   ]
  },
  {
   "cell_type": "code",
   "execution_count": 10,
   "metadata": {},
   "outputs": [],
   "source": [
    "with open('publonResults.json',encoding=\"utf8\") as json_file:\n",
    "    data = json.load(json_file)\n",
    "\n",
    "\n",
    "for i in range(0,len(data)):\n",
    "    x=str(i)\n",
    "    publon[i]={\"PI\":data[x]['PI'],\"Total Cited\":data[x]['Total Cited'],\"Most Cited Publication\":data[x]['Most Cited Publication'],\"DOI\":data[x]['DOI'],\"Pub. Year\":data[x]['Pub. Year'],\"Pub. Cite\":data[x]['Pub. Cite']}"
   ]
  },
  {
   "cell_type": "code",
   "execution_count": 14,
   "metadata": {},
   "outputs": [
    {
     "data": {
      "text/plain": [
       "4283"
      ]
     },
     "execution_count": 14,
     "metadata": {},
     "output_type": "execute_result"
    }
   ],
   "source": [
    "len(data)"
   ]
  },
  {
   "cell_type": "code",
   "execution_count": 18,
   "metadata": {},
   "outputs": [],
   "source": [
    "deneme=data"
   ]
  },
  {
   "cell_type": "code",
   "execution_count": 21,
   "metadata": {},
   "outputs": [
    {
     "data": {
      "text/plain": [
       "{'PI': 'AJ te Velthuis',\n",
       " 'Total Cited': '1.184',\n",
       " 'Most Cited Publication': 'Influenza virus RNA polymerase: insights into the mechanisms of viral RNA synthesis',\n",
       " 'DOI': '10.1038/NRMICRO.2016.87',\n",
       " 'Pub. Year': 'Jul 2016',\n",
       " 'Pub. Cite': '159'}"
      ]
     },
     "execution_count": 21,
     "metadata": {},
     "output_type": "execute_result"
    }
   ],
   "source": [
    "deneme.pop('0')"
   ]
  },
  {
   "cell_type": "code",
   "execution_count": 94,
   "metadata": {},
   "outputs": [],
   "source": [
    "lastlist={}"
   ]
  },
  {
   "cell_type": "code",
   "execution_count": 24,
   "metadata": {},
   "outputs": [],
   "source": [
    "for i in range(1,315):\n",
    "    x=str(i)\n",
    "    deneme.pop(x)"
   ]
  },
  {
   "cell_type": "code",
   "execution_count": 103,
   "metadata": {},
   "outputs": [],
   "source": [
    "for i in range(315,len(deneme)):\n",
    "    x=str(i)\n",
    "    try:\n",
    "        doi = deneme[x]['DOI'].split(\"DOI:\")\n",
    "\n",
    "        last=doi[1]\n",
    "\n",
    "        year = deneme['316']['Pub. Year'].split(\"Published:\",1)[1]\n",
    "        yearlast=year.split(\"in\")\n",
    "\n",
    "        yearverylast=yearlast[0].strip()\n",
    "\n",
    "        lastlist[len(lastlist)]= {\"PI\":deneme[x]['PI'],\"Total Cited\":deneme[x]['Total Cited'],\"Most Cited Publication\":deneme[x]['Most Cited Publication'],\"DOI\":last,\"Pub. Year\":yearverylast,\"Pub. Cite\":deneme[x]['Pub. Cite'] }\n",
    "    except:\n",
    "        continue\n",
    "    "
   ]
  },
  {
   "cell_type": "code",
   "execution_count": 105,
   "metadata": {},
   "outputs": [
    {
     "data": {
      "text/plain": [
       "3683"
      ]
     },
     "execution_count": 105,
     "metadata": {},
     "output_type": "execute_result"
    }
   ],
   "source": [
    "len(lastlist)"
   ]
  },
  {
   "cell_type": "code",
   "execution_count": 101,
   "metadata": {},
   "outputs": [],
   "source": [
    " doi = deneme['1000']['DOI'].split(\"DOI:\")"
   ]
  },
  {
   "cell_type": "code",
   "execution_count": 102,
   "metadata": {},
   "outputs": [
    {
     "data": {
      "text/plain": [
       "' 10.1073/PNAS.0500398102'"
      ]
     },
     "execution_count": 102,
     "metadata": {},
     "output_type": "execute_result"
    }
   ],
   "source": [
    "doi[1]"
   ]
  },
  {
   "cell_type": "code",
   "execution_count": 65,
   "metadata": {},
   "outputs": [
    {
     "data": {
      "text/plain": [
       "'PMID: '"
      ]
     },
     "execution_count": 65,
     "metadata": {},
     "output_type": "execute_result"
    }
   ],
   "source": [
    "doi"
   ]
  },
  {
   "cell_type": "code",
   "execution_count": null,
   "metadata": {},
   "outputs": [],
   "source": [
    "l=k[0].split(\"\\n\")"
   ]
  },
  {
   "cell_type": "code",
   "execution_count": 42,
   "metadata": {},
   "outputs": [],
   "source": [
    "doi=deneme['315']['DOI'].split(\"DOI:\",1)[1]"
   ]
  },
  {
   "cell_type": "code",
   "execution_count": 46,
   "metadata": {},
   "outputs": [],
   "source": [
    "last=doi.strip()"
   ]
  },
  {
   "cell_type": "code",
   "execution_count": 16,
   "metadata": {},
   "outputs": [
    {
     "data": {
      "text/plain": [
       "{'PI': 'Nagihan Bostanci',\n",
       " 'Total Cited': '2.844',\n",
       " 'Most Cited Publication': 'Porphyromonas gingivalis: an invasive and evasive opportunistic oral pathogen',\n",
       " 'DOI': 'DOI: 10.1111/J.1574-6968.2012.02579.X',\n",
       " 'Pub. Year': 'Published:Aug 2012 in FEMS Microbiology Letters',\n",
       " 'Pub. Cite': '249'}"
      ]
     },
     "execution_count": 16,
     "metadata": {},
     "output_type": "execute_result"
    }
   ],
   "source": [
    "publon[4000]"
   ]
  },
  {
   "cell_type": "code",
   "execution_count": 106,
   "metadata": {},
   "outputs": [],
   "source": [
    "\n",
    "    \n",
    "with open('publonV2.json', 'w' , encoding=\"utf8\") as g:\n",
    "            json.dump(lastlist, g)    \n",
    "    \n",
    "pdObj = pd.read_json('publonV2.json', orient='index')\n",
    "\n",
    "csvData = pdObj.to_csv(index=False)\n",
    "pdObj.to_csv('publonV2.csv', index=False)"
   ]
  },
  {
   "cell_type": "code",
   "execution_count": 26,
   "metadata": {},
   "outputs": [],
   "source": [
    "    \n",
    "with open('publonV1.json', 'w' , encoding=\"utf8\") as g:\n",
    "            json.dump(deneme, g) "
   ]
  },
  {
   "cell_type": "code",
   "execution_count": 27,
   "metadata": {},
   "outputs": [],
   "source": [
    "pdObj = pd.read_json('publonV1.json', orient='index')\n",
    "\n",
    "csvData = pdObj.to_csv(index=False)\n",
    "pdObj.to_csv('publonV1.csv', index=False)"
   ]
  },
  {
   "cell_type": "code",
   "execution_count": 459,
   "metadata": {},
   "outputs": [],
   "source": [
    "for i in range(0,len(data)):\n",
    "    x=str(i)\n",
    "    publon[i]={\"PI\":data[x]['PI'],\"Total Cited\":data[x]['Total Cited'],\"Most Cited Publication\":data[x]['Most Cited Publication'],\"DOI\":data[x]['DOI'],\"Pub. Year\":data[x]['Pub. Year'],\"Pub. Cite\":data[x]['Pub. Cite']}\n",
    "    "
   ]
  },
  {
   "cell_type": "code",
   "execution_count": 460,
   "metadata": {},
   "outputs": [
    {
     "data": {
      "text/plain": [
       "47"
      ]
     },
     "execution_count": 460,
     "metadata": {},
     "output_type": "execute_result"
    }
   ],
   "source": [
    "len(publon)"
   ]
  },
  {
   "cell_type": "code",
   "execution_count": 453,
   "metadata": {},
   "outputs": [
    {
     "data": {
      "text/plain": [
       "{'PI': 'Aase Handberg',\n",
       " 'Total Cited': '2.468',\n",
       " 'Most Cited Publication': \"The Alzheimer's Association external quality control program for cerebrospinal fluid biomarkers\",\n",
       " 'DOI': \"Alzheimer's & Dementia: The Journal of the Alzheimer's Association\",\n",
       " 'Pub. Year': 'Mattsson, Niklas',\n",
       " 'Pub. Cite': '267'}"
      ]
     },
     "execution_count": 453,
     "metadata": {},
     "output_type": "execute_result"
    }
   ],
   "source": [
    "data['3']"
   ]
  },
  {
   "cell_type": "code",
   "execution_count": null,
   "metadata": {},
   "outputs": [],
   "source": [
    "try:\n",
    "    for i in range(32,len(authors)):\n",
    "        \n",
    "        search = driver.find_element_by_xpath(\"//input[@name='name']\")\n",
    "        search.send_keys(authors[i])\n",
    "        \n",
    "        time.sleep(2)\n",
    "        name=driver.find_element_by_xpath(\"//*[@id='browse']/div[2]/div/div[3]/div[1]/a[1]/div/span[2]\").text\n",
    "        \n",
    "        try:\n",
    "            if authors[i] in name:\n",
    "                url = driver.find_element_by_xpath(\"//*[@id='browse']/div[2]/div/div[3]/div[1]/a[1]\").get_attribute(\"href\")\n",
    "                driver.get(url)\n",
    "                time.sleep(1)\n",
    "\n",
    "                #publication = driver.find_element_by_xpath(\"//*[@id='researcher-profile-page-content']/div/nav/ol/li[3]\")\n",
    "                #publication.click()\n",
    "\n",
    "                pi=driver.find_element_by_xpath(\"//*[@id='researcher-profile-page-content']/div/div[1]/div/div[2]/div[1]/div[1]/h2\").text\n",
    "\n",
    "                cited=driver.find_element_by_xpath(\"//*[@id='researcher-profile-page-content']/div/div[1]/div/div[2]/div[4]/div[2]/p\").text\n",
    "\n",
    "\n",
    "                title=driver.find_element_by_xpath(\"//*[@id='researcher-profile-page-content']/div/div[2]/div/div[2]/div[1]/ul/div[1]/div/div[1]/div[1]/a/span\").text\n",
    "                date=driver.find_element_by_xpath(\"//*[@id='researcher-profile-page-content']/div/div[2]/div/div[2]/div[1]/ul/div[1]/div/div[1]/div[2]/div/div[2]/p[1]/span\").text\n",
    "                cite=driver.find_element_by_xpath(\"//*[@id='researcher-profile-page-content']/div/div[2]/div/div[2]/div[1]/ul/div[1]/div/div[2]/a\").text\n",
    "                doi=driver.find_element_by_xpath(\"//*[@id='researcher-profile-page-content']/div/div[2]/div/div[2]/div[1]/ul/div[1]/div/div[1]/div[2]/div/div[2]/p[2]/a/span\").text\n",
    "                print(i)\n",
    "\n",
    "                publon[len(publon)]={ \"PI\":pi,\"Total Cited\":cited,\"Most Cited Publication\":title,\"DOI\":doi,\"Pub. Year\":date,\"Pub. Cite\":cite}\n",
    "\n",
    "                with open('publonResults.json', 'w',encoding='utf-8') as g:\n",
    "                    json.dump(publon, g,ensure_ascii=False)\n",
    "\n",
    "                driver.get(\"https://publons.com/researcher/?is_core_collection=1&is_last_twelve_months=1\")\n",
    "                \n",
    "            else:\n",
    "                print(i)\n",
    "                driver.get(\"https://publons.com/researcher/?is_core_collection=1&is_last_twelve_months=1\")\n",
    "                search = driver.find_element_by_xpath(\"//input[@name='name']\")\n",
    "                search.clear()\n",
    "                continue\n",
    "        \n",
    "        \n",
    "            search = driver.find_element_by_xpath(\"//input[@name='name']\")\n",
    "            search.clear()\n",
    "            print(\"buraya kadar çalıştı\")\n",
    "            \n",
    "        except Exception as e:\n",
    "            print(e)\n",
    "            print(i)\n",
    "            print(\"No publication on website\")\n",
    "            driver.get(\"https://publons.com/researcher/?is_core_collection=1&is_last_twelve_months=1\")\n",
    "            search = driver.find_element_by_xpath(\"//input[@name='name']\")\n",
    "            search.clear()\n",
    "            \n",
    "\n",
    " \n",
    "        \n",
    "except Exception as e:\n",
    "    print(e)\n",
    "    print(i)\n",
    "    driver.get(\"https://publons.com/researcher/?is_core_collection=1&is_last_twelve_months=1\")\n",
    "    search = driver.find_element_by_xpath(\"//input[@name='name']\")\n",
    "    search.clear()\n",
    "    "
   ]
  },
  {
   "cell_type": "code",
   "execution_count": 422,
   "metadata": {},
   "outputs": [],
   "source": [
    "driver.get(\"https://publons.com/researcher/?is_core_collection=1&is_last_twelve_months=1\")\n"
   ]
  },
  {
   "cell_type": "code",
   "execution_count": 408,
   "metadata": {},
   "outputs": [
    {
     "data": {
      "text/plain": [
       "{'PI': 'AJ te Velthuis',\n",
       " 'Total Cited': '10.267',\n",
       " 'Most Cited Publication': 'Influenza virus RNA polymerase: insights into the mechanisms of viral RNA synthesis',\n",
       " 'DOI': '10.1038/NRMICRO.2016.87',\n",
       " 'Pub. Year': 'Jul 2016',\n",
       " 'Pub. Cite': '159'}"
      ]
     },
     "execution_count": 408,
     "metadata": {},
     "output_type": "execute_result"
    }
   ],
   "source": [
    "publon"
   ]
  },
  {
   "cell_type": "code",
   "execution_count": 229,
   "metadata": {},
   "outputs": [],
   "source": [
    "url = driver.find_element_by_xpath(\"//*[@id='browse']/div[2]/div/div[3]/div[1]/a[1]\").get_attribute(\"href\")\n"
   ]
  },
  {
   "cell_type": "code",
   "execution_count": 230,
   "metadata": {},
   "outputs": [
    {
     "data": {
      "text/plain": [
       "'https://publons.com/researcher/3148375/aadil-belbagi/'"
      ]
     },
     "execution_count": 230,
     "metadata": {},
     "output_type": "execute_result"
    }
   ],
   "source": [
    "url"
   ]
  },
  {
   "cell_type": "code",
   "execution_count": 60,
   "metadata": {},
   "outputs": [
    {
     "data": {
      "text/plain": [
       "'Jul 2013 '"
      ]
     },
     "execution_count": 60,
     "metadata": {},
     "output_type": "execute_result"
    }
   ],
   "source": [
    "pub_year"
   ]
  },
  {
   "cell_type": "code",
   "execution_count": 42,
   "metadata": {},
   "outputs": [],
   "source": [
    "name=driver.find_element_by_xpath(\"//*[@id='browse']/div[2]/div/div[3]/div[1]/a[1]/div/span[2]\").text"
   ]
  },
  {
   "cell_type": "code",
   "execution_count": null,
   "metadata": {},
   "outputs": [],
   "source": [
    "pub+\",\"+year+\",\""
   ]
  },
  {
   "cell_type": "code",
   "execution_count": null,
   "metadata": {},
   "outputs": [],
   "source": [
    "//*[@id=\"researcher-profile-page-content\"]/div/div[2]/div/div[2]/div[1]/ul/div[1]/div/div[1]/div[1]/a/span"
   ]
  },
  {
   "cell_type": "code",
   "execution_count": null,
   "metadata": {},
   "outputs": [],
   "source": [
    "//*[@id=\"researcher-profile-page-content\"]/div/div[2]/div/div[2]/div[1]/ul/div[2]/div/div[1]/div[1]/a/span"
   ]
  },
  {
   "cell_type": "markdown",
   "metadata": {},
   "source": [
    "publication search"
   ]
  },
  {
   "cell_type": "code",
   "execution_count": null,
   "metadata": {},
   "outputs": [],
   "source": [
    "try:\n",
    "    for i in range(0,len())"
   ]
  },
  {
   "cell_type": "code",
   "execution_count": 275,
   "metadata": {},
   "outputs": [],
   "source": [
    "counter=0"
   ]
  },
  {
   "cell_type": "code",
   "execution_count": 367,
   "metadata": {},
   "outputs": [],
   "source": [
    "company_list=[]"
   ]
  },
  {
   "cell_type": "code",
   "execution_count": null,
   "metadata": {},
   "outputs": [],
   "source": [
    "publication-list-item-journal-published-copy"
   ]
  },
  {
   "cell_type": "code",
   "execution_count": null,
   "metadata": {},
   "outputs": [],
   "source": [
    "all_atag = driver.find_elements_by_tag_name(\"a\")\n",
    "all_atag = [ s for s in all_atag if s.get_attribute(\"class\")==\"publication-list-item-title very-dark-gray-link\"]\n",
    "p = driver.find_elements_by_tag_name(\"p\")\n",
    "p = [ s for s in p if s.get_attribute(\"class\")==\"publication-list-item-journal-published-copy\"]\n",
    "\n",
    "date= driver.find_elements_by_tag_name(\"span\")\n",
    "date= [ s for s in date if s.get_attribute(\"class\")==\"publication-list-item-date\"]\n",
    "\n",
    "for i in all_atag:\n",
    "    print(counter)\n",
    "    company_list.append(i.text)\n",
    "    print(i.text)\n",
    "    counter += 1"
   ]
  },
  {
   "cell_type": "code",
   "execution_count": 368,
   "metadata": {},
   "outputs": [],
   "source": [
    "for i in p:\n",
    "    company_list.append(i.text)"
   ]
  },
  {
   "cell_type": "code",
   "execution_count": 373,
   "metadata": {},
   "outputs": [
    {
     "data": {
      "text/plain": [
       "'DOI: 10.1038/NRMICRO.2016.87'"
      ]
     },
     "execution_count": 373,
     "metadata": {},
     "output_type": "execute_result"
    }
   ],
   "source": [
    "company_list[1]"
   ]
  },
  {
   "cell_type": "code",
   "execution_count": 316,
   "metadata": {},
   "outputs": [],
   "source": [
    "doi= driver.find_elements_by_tag_name(\"p\")\n",
    "doi= [ s for s in doi if s.get_attribute(\"class\")==\"publication-list-item-journal-published-copy\"]\n"
   ]
  },
  {
   "cell_type": "code",
   "execution_count": null,
   "metadata": {},
   "outputs": [],
   "source": []
  },
  {
   "cell_type": "code",
   "execution_count": null,
   "metadata": {},
   "outputs": [],
   "source": []
  },
  {
   "cell_type": "code",
   "execution_count": null,
   "metadata": {},
   "outputs": [],
   "source": []
  },
  {
   "cell_type": "code",
   "execution_count": 385,
   "metadata": {},
   "outputs": [],
   "source": [
    "title=driver.find_element_by_xpath(\"//*[@id='researcher-profile-page-content']/div/div[2]/div/div[2]/div[1]/ul/div[1]/div/div[1]/div[1]/a/span\").text\n",
    "date=driver.find_element_by_xpath(\"//*[@id='researcher-profile-page-content']/div/div[2]/div/div[2]/div[1]/ul/div[1]/div/div[1]/div[2]/div/div[2]/p[1]/span\").text\n",
    "cite=driver.find_element_by_xpath(\"//*[@id='researcher-profile-page-content']/div/div[2]/div/div[2]/div[1]/ul/div[1]/div/div[2]/a\").text\n",
    "doi=driver.find_element_by_xpath(\"//*[@id='researcher-profile-page-content']/div/div[2]/div/div[2]/div[1]/ul/div[1]/div/div[1]/div[2]/div/div[2]/p[2]/a/span\").text\n",
    "\n",
    "\n",
    "\n"
   ]
  },
  {
   "cell_type": "code",
   "execution_count": 386,
   "metadata": {},
   "outputs": [],
   "source": [
    "date=driver.find_element_by_xpath(\"//*[@id='researcher-profile-page-content']/div/div[2]/div/div[2]/div[1]/ul/div[1]/div/div[1]/div[2]/div/div[2]/p[1]/span\").text"
   ]
  },
  {
   "cell_type": "code",
   "execution_count": 387,
   "metadata": {},
   "outputs": [],
   "source": [
    "cite=driver.find_element_by_xpath(\"//*[@id='researcher-profile-page-content']/div/div[2]/div/div[2]/div[1]/ul/div[1]/div/div[2]/a\").text"
   ]
  },
  {
   "cell_type": "code",
   "execution_count": 388,
   "metadata": {},
   "outputs": [],
   "source": [
    "doi=driver.find_element_by_xpath(\"//*[@id='researcher-profile-page-content']/div/div[2]/div/div[2]/div[1]/ul/div[1]/div/div[1]/div[2]/div/div[2]/p[2]/a/span\").text"
   ]
  },
  {
   "cell_type": "code",
   "execution_count": 389,
   "metadata": {},
   "outputs": [
    {
     "data": {
      "text/plain": [
       "'Influenza virus RNA polymerase: insights into the mechanisms of viral RNA synthesis'"
      ]
     },
     "execution_count": 389,
     "metadata": {},
     "output_type": "execute_result"
    }
   ],
   "source": [
    "title"
   ]
  },
  {
   "cell_type": "code",
   "execution_count": 390,
   "metadata": {},
   "outputs": [
    {
     "data": {
      "text/plain": [
       "'Jul 2016'"
      ]
     },
     "execution_count": 390,
     "metadata": {},
     "output_type": "execute_result"
    }
   ],
   "source": [
    "date"
   ]
  },
  {
   "cell_type": "code",
   "execution_count": 376,
   "metadata": {},
   "outputs": [],
   "source": [
    "new=[]"
   ]
  },
  {
   "cell_type": "code",
   "execution_count": 391,
   "metadata": {},
   "outputs": [
    {
     "data": {
      "text/plain": [
       "'159'"
      ]
     },
     "execution_count": 391,
     "metadata": {},
     "output_type": "execute_result"
    }
   ],
   "source": [
    "cite"
   ]
  },
  {
   "cell_type": "code",
   "execution_count": 392,
   "metadata": {},
   "outputs": [
    {
     "data": {
      "text/plain": [
       "'10.1038/NRMICRO.2016.87'"
      ]
     },
     "execution_count": 392,
     "metadata": {},
     "output_type": "execute_result"
    }
   ],
   "source": [
    "doi"
   ]
  },
  {
   "cell_type": "code",
   "execution_count": 377,
   "metadata": {},
   "outputs": [],
   "source": [
    "pubDoi={}"
   ]
  },
  {
   "cell_type": "code",
   "execution_count": 322,
   "metadata": {},
   "outputs": [],
   "source": [
    "for i in doi:\n",
    "    new.append(i.text)"
   ]
  },
  {
   "cell_type": "code",
   "execution_count": null,
   "metadata": {},
   "outputs": [],
   "source": []
  },
  {
   "cell_type": "code",
   "execution_count": 348,
   "metadata": {},
   "outputs": [],
   "source": [
    "count=0"
   ]
  },
  {
   "cell_type": "code",
   "execution_count": 363,
   "metadata": {},
   "outputs": [
    {
     "name": "stdout",
     "output_type": "stream",
     "text": [
      "halt\n"
     ]
    }
   ],
   "source": [
    "for i in range(0,len(new)):\n",
    "    try:\n",
    "        pubDoi[len(pubDoi)]={\"Year\":new[i],\"Doi\":new[i+1]}\n",
    "        \n",
    "        i=i+2\n",
    "    except:\n",
    "        print(\"halt\")"
   ]
  },
  {
   "cell_type": "code",
   "execution_count": 365,
   "metadata": {},
   "outputs": [
    {
     "data": {
      "text/plain": [
       "{'Year': 'Published:Jul 2016 in Nature Reviews Microbiology',\n",
       " 'Doi': 'DOI: 10.1038/NRMICRO.2016.87'}"
      ]
     },
     "execution_count": 365,
     "metadata": {},
     "output_type": "execute_result"
    }
   ],
   "source": [
    "pubDoi[0]"
   ]
  },
  {
   "cell_type": "raw",
   "metadata": {},
   "source": [
    "ikili = list(combinations(new, 2))"
   ]
  },
  {
   "cell_type": "code",
   "execution_count": null,
   "metadata": {},
   "outputs": [],
   "source": []
  },
  {
   "cell_type": "code",
   "execution_count": null,
   "metadata": {},
   "outputs": [],
   "source": [
    "button=driver.find_element_by_xpath(\"//*[@id='browse']/div[2]/div/div[3]/div[1]/a[1]/div[1]\")"
   ]
  },
  {
   "cell_type": "code",
   "execution_count": 78,
   "metadata": {},
   "outputs": [],
   "source": [
    "button.click()"
   ]
  },
  {
   "cell_type": "code",
   "execution_count": 90,
   "metadata": {},
   "outputs": [],
   "source": [
    "publication = driver.find_element_by_xpath(\"//*[@id='browse']/div[2]/div/div[3]/div[1]/a[1]/div[1]\")"
   ]
  },
  {
   "cell_type": "code",
   "execution_count": 92,
   "metadata": {},
   "outputs": [],
   "source": [
    "publication.click()"
   ]
  },
  {
   "cell_type": "code",
   "execution_count": null,
   "metadata": {},
   "outputs": [],
   "source": []
  },
  {
   "cell_type": "code",
   "execution_count": 176,
   "metadata": {},
   "outputs": [],
   "source": [
    "name=driver.find_element_by_xpath(\"//*[@id='browse']/div[2]/div/div[3]/div[1]/a[1]\")"
   ]
  },
  {
   "cell_type": "code",
   "execution_count": 178,
   "metadata": {},
   "outputs": [],
   "source": [
    "name.click()"
   ]
  },
  {
   "cell_type": "code",
   "execution_count": 190,
   "metadata": {},
   "outputs": [],
   "source": [
    "name=driver.find_element_by_xpath(\"//*[@id='browse']/div[2]/div/div[3]/div[1]/a[1]/div/span[2]\").text"
   ]
  },
  {
   "cell_type": "code",
   "execution_count": 191,
   "metadata": {},
   "outputs": [
    {
     "data": {
      "text/plain": [
       "'Aadil Belbagi'"
      ]
     },
     "execution_count": 191,
     "metadata": {},
     "output_type": "execute_result"
    }
   ],
   "source": [
    "name\n"
   ]
  },
  {
   "cell_type": "code",
   "execution_count": 206,
   "metadata": {},
   "outputs": [],
   "source": [
    "neymis=driver.find_element_by_xpath(\"//*[@id='browse']/div[2]/div/div[3]/div[1]/a[1]\")"
   ]
  },
  {
   "cell_type": "code",
   "execution_count": 207,
   "metadata": {},
   "outputs": [
    {
     "data": {
      "text/plain": [
       "<selenium.webdriver.remote.webelement.WebElement (session=\"323f168d738aa954066bd2898651dd0b\", element=\"39b9d4a7-9d03-45c5-bfe4-0b15fff046d5\")>"
      ]
     },
     "execution_count": 207,
     "metadata": {},
     "output_type": "execute_result"
    }
   ],
   "source": [
    "neymis"
   ]
  },
  {
   "cell_type": "code",
   "execution_count": null,
   "metadata": {},
   "outputs": [],
   "source": [
    "lnks=driver.find_element_by_xpath(\"//*[@id='browse']/div[2]/div/div[3]/div[1]\")\n",
    "# traverse list\n",
    "for lnk in lnks:\n",
    "   # get_attribute() to get all href\n",
    "   print(lnk.get_attribute(\"href\"))"
   ]
  },
  {
   "cell_type": "code",
   "execution_count": null,
   "metadata": {},
   "outputs": [],
   "source": [
    "driver.findElement(By.linkText(\"Aadil Belbagi\")).click()"
   ]
  },
  {
   "cell_type": "code",
   "execution_count": null,
   "metadata": {},
   "outputs": [],
   "source": []
  },
  {
   "cell_type": "markdown",
   "metadata": {},
   "source": [
    " \"EXCUSES\""
   ]
  },
  {
   "cell_type": "markdown",
   "metadata": {},
   "source": [
    "The website she found doesnt have puclication section always which does not give any result\n",
    "So code gives exception for this which has not any info for the authors\n",
    "https://publons.com/researcher/3148375/aadil-belbagi/metrics/"
   ]
  },
  {
   "cell_type": "code",
   "execution_count": null,
   "metadata": {},
   "outputs": [],
   "source": []
  },
  {
   "cell_type": "code",
   "execution_count": 109,
   "metadata": {},
   "outputs": [],
   "source": []
  },
  {
   "cell_type": "code",
   "execution_count": null,
   "metadata": {},
   "outputs": [],
   "source": []
  },
  {
   "cell_type": "code",
   "execution_count": null,
   "metadata": {},
   "outputs": [],
   "source": []
  },
  {
   "cell_type": "code",
   "execution_count": null,
   "metadata": {},
   "outputs": [],
   "source": []
  },
  {
   "cell_type": "code",
   "execution_count": null,
   "metadata": {},
   "outputs": [],
   "source": []
  },
  {
   "cell_type": "code",
   "execution_count": null,
   "metadata": {},
   "outputs": [],
   "source": []
  },
  {
   "cell_type": "code",
   "execution_count": null,
   "metadata": {},
   "outputs": [],
   "source": []
  },
  {
   "cell_type": "code",
   "execution_count": null,
   "metadata": {},
   "outputs": [],
   "source": []
  },
  {
   "cell_type": "code",
   "execution_count": null,
   "metadata": {},
   "outputs": [],
   "source": []
  },
  {
   "cell_type": "code",
   "execution_count": 112,
   "metadata": {},
   "outputs": [],
   "source": [
    "autNew = authors[0].replace(\".\", \"\")"
   ]
  },
  {
   "cell_type": "code",
   "execution_count": 127,
   "metadata": {},
   "outputs": [],
   "source": [
    "length=autNew.replace(\" \",\"-\")"
   ]
  },
  {
   "cell_type": "code",
   "execution_count": 128,
   "metadata": {},
   "outputs": [
    {
     "data": {
      "text/plain": [
       "'A-Athanasopoulos'"
      ]
     },
     "execution_count": 128,
     "metadata": {},
     "output_type": "execute_result"
    }
   ],
   "source": [
    "length"
   ]
  },
  {
   "cell_type": "code",
   "execution_count": 124,
   "metadata": {},
   "outputs": [
    {
     "data": {
      "text/plain": [
       "2"
      ]
     },
     "execution_count": 124,
     "metadata": {},
     "output_type": "execute_result"
    }
   ],
   "source": [
    "len(length)"
   ]
  },
  {
   "cell_type": "code",
   "execution_count": 125,
   "metadata": {},
   "outputs": [],
   "source": [
    "for i in range(0,len(length)):\n",
    "    name+=length[i]+\"-\""
   ]
  },
  {
   "cell_type": "code",
   "execution_count": 126,
   "metadata": {},
   "outputs": [
    {
     "data": {
      "text/plain": [
       "'Athanasopoulos-A-Athanasopoulos-A-Athanasopoulos-'"
      ]
     },
     "execution_count": 126,
     "metadata": {},
     "output_type": "execute_result"
    }
   ],
   "source": [
    "name"
   ]
  },
  {
   "cell_type": "code",
   "execution_count": null,
   "metadata": {},
   "outputs": [],
   "source": [
    "newstring="
   ]
  },
  {
   "cell_type": "code",
   "execution_count": 489,
   "metadata": {},
   "outputs": [],
   "source": [
    "driver = webdriver.Chrome(\"D:/chromedriver.exe\")"
   ]
  },
  {
   "cell_type": "code",
   "execution_count": 490,
   "metadata": {},
   "outputs": [],
   "source": [
    "options = webdriver.ChromeOptions()\n",
    "options.add_experimental_option('excludeSwitches', ['enable-automation']) \n"
   ]
  },
  {
   "cell_type": "code",
   "execution_count": 491,
   "metadata": {},
   "outputs": [],
   "source": [
    "driver.get(\"https://publons.com/researcher/?is_core_collection=1&is_last_twelve_months=1\")\n"
   ]
  },
  {
   "cell_type": "code",
   "execution_count": null,
   "metadata": {},
   "outputs": [],
   "source": []
  },
  {
   "cell_type": "code",
   "execution_count": null,
   "metadata": {},
   "outputs": [],
   "source": [
    "\n",
    "for i in range(2328,len(authors)):\n",
    "       \n",
    "       \n",
    "    search = driver.find_element_by_xpath(\"//input[@name='name']\")\n",
    "    search.send_keys(authors[i])     \n",
    "    time.sleep(3)\n",
    "\n",
    "\n",
    "        \n",
    "       \n",
    "    try:\n",
    "        name=driver.find_element_by_xpath(\"//*[@id='browse']/div[2]/div/div[3]/div[1]/a[1]/div\").text\n",
    "            \n",
    "            \n",
    "        if authors[i] in name:\n",
    "                \n",
    "            url = driver.find_element_by_xpath(\"//*[@id='browse']/div[2]/div/div[3]/div[1]/a[1]\").get_attribute(\"href\")\n",
    "                \n",
    "            driver.get(url)\n",
    "            time.sleep(2)\n",
    "\n",
    "                #publication = driver.find_element_by_xpath(\"//*[@id='researcher-profile-page-content']/div/nav/ol/li[3]\")\n",
    "                #publication.click()\n",
    "\n",
    "            pi=driver.find_element_by_xpath(\"//*[@id='researcher-profile-page-content']/div/div[1]/div/div[2]/div[1]/div[1]/h2\").text\n",
    "\n",
    "            cited=driver.find_element_by_xpath(\"//*[@id='researcher-profile-page-content']/div/div[1]/div/div[2]/div[4]/div[2]/p\").text\n",
    "            title=driver.find_element_by_xpath(\"//*[@id='researcher-profile-page-content']/div/div[2]/div/div[2]/div[1]/ul/div[1]/div/div[1]/div[1]/a/span\").text\n",
    "            date=driver.find_element_by_xpath(\"//*[@id='researcher-profile-page-content']/div/div[2]/div/div[2]/div[1]/ul/div[1]/div/div[1]/div[2]/div/div[2]/p[2]\").text\n",
    "            cite=driver.find_element_by_xpath(\"//*[@id='researcher-profile-page-content']/div/div[2]/div/div[2]/div[1]/ul/div[1]/div/div[2]/a\").text\n",
    "            doi=driver.find_element_by_xpath(\"//*[@id='researcher-profile-page-content']/div/div[2]/div/div[2]/div[1]/ul/div[1]/div/div[1]/div[2]/div/div[2]/p[3]\").text\n",
    "            print(i)\n",
    "\n",
    "            publon[len(publon)]={ \"PI\":pi,\"Total Cited\":cited,\"Most Cited Publication\":title,\"DOI\":doi,\"Pub. Year\":date,\"Pub. Cite\":cite}\n",
    "\n",
    "            with open('publonResults.json', 'w',encoding='utf-8') as g:\n",
    "                json.dump(publon, g,ensure_ascii=False)\n",
    "\n",
    "            driver.back()\n",
    "               \n",
    "        else:\n",
    "            print(i)\n",
    "            search = driver.find_element_by_xpath(\"//input[@name='name']\")\n",
    "            search.clear()\n",
    "                \n",
    "           \n",
    "    except Exception as e:\n",
    "        print(e)\n",
    "        print(i)\n",
    "        print(\"Name Bulamadı\")\n",
    "        search = driver.find_element_by_xpath(\"//input[@name='name']\")\n",
    "        search.clear()\n",
    "        continue"
   ]
  },
  {
   "cell_type": "code",
   "execution_count": null,
   "metadata": {},
   "outputs": [],
   "source": []
  }
 ],
 "metadata": {
  "kernelspec": {
   "display_name": "Python 3",
   "language": "python",
   "name": "python3"
  },
  "language_info": {
   "codemirror_mode": {
    "name": "ipython",
    "version": 3
   },
   "file_extension": ".py",
   "mimetype": "text/x-python",
   "name": "python",
   "nbconvert_exporter": "python",
   "pygments_lexer": "ipython3",
   "version": "3.7.7"
  }
 },
 "nbformat": 4,
 "nbformat_minor": 4
}
